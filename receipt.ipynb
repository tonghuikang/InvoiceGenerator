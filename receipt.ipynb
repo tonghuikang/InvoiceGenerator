{
 "cells": [
  {
   "cell_type": "code",
   "execution_count": 1,
   "metadata": {},
   "outputs": [],
   "source": [
    "#!conda install -c anaconda reportlab -y \n",
    "#!conda install -c conda-forge qrcode -y\n",
    "#!conda install -c conda-forge babel -y\n",
    "# I think just install all the dependencies of InvoiceGenerator but not InvoiceGenerator\n",
    "\n",
    "# Google Sheet formulas\n",
    "# IF(I5>0,\"{'name':'\"&I$1&\"','units':\"&I5&\",'price':\"&I$2&\"},\",\"\")\n",
    "# \"{'invoice_num':\"&N5&\",'student_id':\"&M5&\",'items':[\"&CONCATENATE(O5:W5)&\"]},\""
   ]
  },
  {
   "cell_type": "code",
   "execution_count": 2,
   "metadata": {},
   "outputs": [],
   "source": [
    "import os\n",
    "from tempfile import NamedTemporaryFile\n",
    "from InvoiceGenerator.api import Invoice, Item, Client, Provider, Creator\n",
    "from InvoiceGenerator.pdf import SimpleInvoice\n",
    "\n",
    "os.environ[\"INVOICE_LANG\"] = \"en\""
   ]
  },
  {
   "cell_type": "code",
   "execution_count": 3,
   "metadata": {},
   "outputs": [],
   "source": [
    "def print_receipt(receipt):\n",
    "    invoice_num = receipt[\"invoice_num\"]\n",
    "    student_id = str(receipt[\"student_id\"])\n",
    "    items = receipt[\"items\"]\n",
    "\n",
    "\n",
    "    provider = Provider('''MAKER'S RESUPPLY \\n''',   \n",
    "                        address = '''Tampines BizHub, 11 Tampines Street 92, S(528872) \\n\n",
    "                                     Company UEN: 53387445M''',\n",
    "#                         note = '\\n' + receipt[\"date\"],\n",
    "                        bank_account='na', # doesn't matter but need to incl\n",
    "                        bank_code='na')  # doesn't matter but need to incl\n",
    "    client = Client(\"INVOICE\", \n",
    "                    note = 'Invoice ID: ' + str(invoice_num) + '\\n \\n' +\n",
    "                           'Customer information: ' + student_id + '\\n \\n' +\n",
    "                           'Date of Purchase: ' + receipt[\"date\"] + '\\n' +\n",
    "                           'Terms of Payment: ' + 'Cash'\n",
    "                    )\n",
    "    creator = Creator('None')  # maybe append our coy name here  \n",
    "\n",
    "    invoice = Invoice(client, provider, creator)\n",
    "    invoice.currency_locale = 'en_US.UTF-8'\n",
    "    invoice.currency = '$'\n",
    "#     invoice.number = invoice_num\n",
    "    for item in items:\n",
    "        invoice.add_item(Item(item[\"units\"], item[\"price\"], description=item[\"name\"]))\n",
    "\n",
    "    pdf = SimpleInvoice(invoice)\n",
    "    pdf.gen(\"./receipts/{}-1.pdf\".format(student_id), generate_qr_code=False)"
   ]
  },
  {
   "cell_type": "code",
   "execution_count": 4,
   "metadata": {},
   "outputs": [],
   "source": [
    "receipts = [\n",
    "{'invoice_num':'SU-1000001','student_id':1003386,'date':'27-09-2018','items':[{'name':'Arduino Uno','units':1,'price':7},]},\n",
    "{'invoice_num':'SU-1000002','student_id':1009999,'date':'27-09-2018','items':[{'name':'Arduino Uno','units':1,'price':7},{'name':'Breadboard','units':1,'price':3},{'name':'LED 50 pc','units':1,'price':2},{'name':'Micro USB Cable','units':1,'price':3},]},\n",
    "{'invoice_num':'SU-1000003','student_id':1003319,'date':'27-09-2018','items':[{'name':'Arduino Uno','units':1,'price':7},{'name':'Jumper Cable 20cm','units':1,'price':9},{'name':'Breadboard','units':1,'price':3},{'name':'Micro USB Cable','units':1,'price':3},]},\n",
    "{'invoice_num':'SU-1000004','student_id':1003737,'date':'27-09-2018','items':[{'name':'Arduino Uno','units':1,'price':7},{'name':'Jumper Cable 20cm','units':1,'price':9},{'name':'LED 50 pc','units':1,'price':2},{'name':'Resistor 600 pc','units':1,'price':2},{'name':'Micro USB Cable','units':1,'price':3},]},\n",
    "{'invoice_num':'SU-1000005','student_id':1003295,'date':'27-09-2018','items':[{'name':'Arduino Uno','units':1,'price':7},{'name':'Arduino Nano','units':2,'price':5},{'name':'LED 50 pc','units':1,'price':2},{'name':'Resistor 600 pc','units':1,'price':2},{'name':'Micro USB Cable','units':1,'price':3},]},\n",
    "{'invoice_num':'SU-1000006','student_id':1003307,'date':'27-09-2018','items':[{'name':'Jumper Cable 20cm','units':1,'price':9},{'name':'Breadboard','units':1,'price':3},{'name':'LED 50 pc','units':1,'price':2},]},\n",
    "{'invoice_num':'SU-1000007','student_id':1003293,'date':'27-09-2018','items':[{'name':'Arduino Uno','units':1,'price':7},{'name':'Jumper Cable 10cm','units':1,'price':6},{'name':'Breadboard','units':1,'price':3},{'name':'LED 50 pc','units':1,'price':2},{'name':'Resistor 600 pc','units':1,'price':2},{'name':'Micro USB Cable','units':1,'price':3},]},\n",
    "{'invoice_num':'SU-1000008','student_id':1003385,'date':'27-09-2018','items':[{'name':'Arduino Uno','units':1,'price':7},{'name':'Jumper Cable 10cm','units':1,'price':6},{'name':'Breadboard','units':1,'price':3},{'name':'LED 50 pc','units':1,'price':2},{'name':'Resistor 600 pc','units':1,'price':2},]},\n",
    "{'invoice_num':'SU-1000009','student_id':1003605,'date':'27-09-2018','items':[{'name':'Arduino Uno','units':1,'price':7},{'name':'Jumper Cable 20cm','units':1,'price':9},{'name':'Breadboard','units':1,'price':3},]},\n",
    "{'invoice_num':'SU-1000010','student_id':1002748,'date':'27-09-2018','items':[{'name':'Arduino Nano','units':1,'price':5},{'name':'Jumper Cable 10cm','units':1,'price':6},{'name':'Breadboard','units':1,'price':3},{'name':'LED 50 pc','units':1,'price':2},{'name':'Resistor 600 pc','units':1,'price':2},]},\n",
    "{'invoice_num':'SU-1000011','student_id':1003731,'date':'27-09-2018','items':[{'name':'Arduino Uno','units':1,'price':7},{'name':'Jumper Cable 20cm','units':1,'price':9},{'name':'Breadboard','units':1,'price':3},]},\n",
    "{'invoice_num':'SU-1000012','student_id':1003588,'date':'27-09-2018','items':[{'name':'Arduino Nano','units':1,'price':5},{'name':'Jumper Cable 10cm','units':1,'price':6},{'name':'Breadboard','units':1,'price':3},]},\n",
    "{'invoice_num':'SU-1000013','student_id':1003362,'date':'27-09-2018','items':[{'name':'Arduino Uno','units':1,'price':7},]},\n",
    "{'invoice_num':'SU-1000014','student_id':1003516,'date':'27-09-2018','items':[{'name':'Arduino Uno','units':1,'price':7},{'name':'Breadboard','units':1,'price':3},{'name':'Resistor 600 pc','units':1,'price':2},]},\n",
    "{'invoice_num':'SU-1000015','student_id':1002682,'date':'27-09-2018','items':[{'name':'Arduino Nano','units':1,'price':5},{'name':'Jumper Cable 10cm','units':1,'price':6},{'name':'Breadboard','units':1,'price':3},]},\n",
    "{'invoice_num':'SU-1000016','student_id':1003445,'date':'27-09-2018','items':[{'name':'Arduino Uno','units':1,'price':7},]},\n",
    "{'invoice_num':'SU-1000017','student_id':1003330,'date':'27-09-2018','items':[{'name':'Arduino Uno','units':1,'price':7},{'name':'Breadboard','units':1,'price':3},]},\n",
    "{'invoice_num':'SU-1000018','student_id':1003810,'date':'27-09-2018','items':[{'name':'Arduino Uno','units':1,'price':7},{'name':'Jumper Cable 10cm','units':1,'price':6},{'name':'Jumper Cable 20cm','units':1,'price':9},{'name':'Breadboard','units':1,'price':3},{'name':'LED 50 pc','units':1,'price':2},{'name':'Resistor 600 pc','units':1,'price':2},]},\n",
    "{'invoice_num':'SU-1000019','student_id':1003465,'date':'27-09-2018','items':[{'name':'Arduino Uno','units':1,'price':7},{'name':'Breadboard','units':1,'price':3},]},\n",
    "{'invoice_num':'SU-1000020','student_id':1003326,'date':'27-09-2018','items':[{'name':'Arduino Uno','units':1,'price':7},{'name':'Breadboard','units':1,'price':3},]},\n",
    "{'invoice_num':'SU-1000021','student_id':1003529,'date':'27-09-2018','items':[{'name':'Arduino Uno','units':1,'price':7},{'name':'Jumper Cable 10cm','units':1,'price':6},{'name':'Breadboard','units':1,'price':3},{'name':'LED 50 pc','units':1,'price':2},{'name':'Resistor 600 pc','units':1,'price':2},{'name':'Micro USB Cable','units':1,'price':3},]},\n",
    "{'invoice_num':'SU-1000022','student_id':1003610,'date':'27-09-2018','items':[{'name':'Arduino Nano','units':1,'price':5},{'name':'Breadboard','units':1,'price':3},{'name':'LED 50 pc','units':1,'price':2},]},\n",
    "{'invoice_num':'SU-1000023','student_id':1003856,'date':'27-09-2018','items':[{'name':'Arduino Uno','units':1,'price':7},{'name':'Jumper Cable 20cm','units':1,'price':9},{'name':'Breadboard','units':1,'price':3},{'name':'LED 50 pc','units':1,'price':2},{'name':'Resistor 600 pc','units':1,'price':2},{'name':'Micro USB Cable','units':1,'price':3},]},\n",
    "{'invoice_num':'SU-1000024','student_id':1003344,'date':'27-09-2018','items':[{'name':'Arduino Uno','units':1,'price':7},{'name':'Arduino Nano','units':1,'price':5},{'name':'Breadboard','units':1,'price':3},{'name':'Resistor 600 pc','units':1,'price':2},{'name':'Micro USB Cable','units':1,'price':3},]},\n",
    "{'invoice_num':'SU-1000025','student_id':1003103,'date':'27-09-2018','items':[{'name':'LED 50 pc','units':1,'price':2},]},\n",
    "{'invoice_num':'SU-1000026','student_id':1003540,'date':'27-09-2018','items':[{'name':'Arduino Uno','units':1,'price':7},{'name':'Arduino Nano','units':1,'price':5},{'name':'Jumper Cable 10cm','units':1,'price':6},{'name':'Jumper Cable 20cm','units':1,'price':9},{'name':'Breadboard','units':1,'price':3},{'name':'LED 50 pc','units':1,'price':2},{'name':'Resistor 600 pc','units':1,'price':2},{'name':'Micro USB Cable','units':1,'price':3},]},\n",
    "{'invoice_num':'SU-1000027','student_id':1003368,'date':'27-09-2018','items':[{'name':'Arduino Nano','units':1,'price':5},{'name':'Jumper Cable 20cm','units':1,'price':9},{'name':'Breadboard','units':1,'price':3},{'name':'Micro USB Cable','units':2,'price':3},]},\n",
    "{'invoice_num':'SU-1000028','student_id':1003615,'date':'27-09-2018','items':[{'name':'Arduino Uno','units':1,'price':7},{'name':'LED 50 pc','units':1,'price':2},{'name':'Resistor 600 pc','units':1,'price':2},{'name':'Micro USB Cable','units':1,'price':3},]},\n",
    "{'invoice_num':'SU-1000029','student_id':1003824,'date':'27-09-2018','items':[{'name':'Arduino Uno','units':1,'price':7},{'name':'Jumper Cable 20cm','units':1,'price':9},{'name':'LED 50 pc','units':1,'price':2},{'name':'Resistor 600 pc','units':1,'price':2},]},\n",
    "{'invoice_num':'SU-1000030','student_id':1003309,'date':'27-09-2018','items':[{'name':'Arduino Nano','units':1,'price':5},{'name':'Jumper Cable 10cm','units':1,'price':6},]},\n",
    "{'invoice_num':'SU-1000031','student_id':1003661,'date':'27-09-2018','items':[{'name':'Arduino Uno','units':1,'price':7},{'name':'Arduino Nano','units':1,'price':5},]},\n",
    "{'invoice_num':'SU-1000032','student_id':1003594,'date':'27-09-2018','items':[{'name':'Arduino Uno','units':1,'price':7},]},\n",
    "{'invoice_num':'SU-1000033','student_id':1003564,'date':'27-09-2018','items':[{'name':'Arduino Uno','units':1,'price':7},{'name':'Arduino Nano','units':1,'price':5},]},\n",
    "{'invoice_num':'SU-1000034','student_id':1003664,'date':'27-09-2018','items':[{'name':'Arduino Nano','units':1,'price':5},{'name':'Jumper Cable 10cm','units':1,'price':6},{'name':'Breadboard','units':2,'price':3},]},\n",
    "{'invoice_num':'SU-1000035','student_id':1003537,'date':'27-09-2018','items':[{'name':'Arduino Uno','units':1,'price':7},{'name':'Jumper Cable 10cm','units':1,'price':6},{'name':'Breadboard','units':1,'price':3},{'name':'LED 50 pc','units':1,'price':2},]},\n",
    "{'invoice_num':'SU-1000036','student_id':1003387,'date':'27-09-2018','items':[{'name':'Arduino Uno','units':1,'price':7},{'name':'Breadboard','units':1,'price':3},{'name':'Micro USB Cable','units':1,'price':3},]},\n",
    "{'invoice_num':'SU-1000037','student_id':1003632,'date':'27-09-2018','items':[{'name':'Arduino Uno','units':1,'price':7},{'name':'Jumper Cable 20cm','units':1,'price':9},{'name':'Breadboard','units':1,'price':3},{'name':'LED 50 pc','units':1,'price':2},{'name':'Resistor 600 pc','units':1,'price':2},]},\n",
    "{'invoice_num':'SU-1000038','student_id':1003310,'date':'27-09-2018','items':[{'name':'Arduino Uno','units':1,'price':7},{'name':'Jumper Cable 20cm','units':1,'price':9},{'name':'Breadboard','units':1,'price':3},{'name':'Resistor 600 pc','units':1,'price':2},]},\n",
    "{'invoice_num':'SU-1000039','student_id':1003590,'date':'27-09-2018','items':[{'name':'Arduino Uno','units':1,'price':7},]},\n",
    "{'invoice_num':'SU-1000040','student_id':1002925,'date':'27-09-2018','items':[{'name':'Jumper Cable 10cm','units':1,'price':6},{'name':'Breadboard','units':1,'price':3},]},\n",
    "{'invoice_num':'SU-1000041','student_id':1003837,'date':'27-09-2018','items':[{'name':'Arduino Uno','units':1,'price':7},{'name':'Jumper Cable 10cm','units':1,'price':6},{'name':'Breadboard','units':1,'price':3},{'name':'LED 50 pc','units':1,'price':2},{'name':'Resistor 600 pc','units':1,'price':2},{'name':'Micro USB Cable','units':1,'price':3},]},\n",
    "{'invoice_num':'SU-1000042','student_id':1003301,'date':'27-09-2018','items':[{'name':'Arduino Uno','units':1,'price':7},{'name':'Jumper Cable 10cm','units':1,'price':6},{'name':'LED 50 pc','units':1,'price':2},{'name':'Resistor 600 pc','units':1,'price':2},]},\n",
    "{'invoice_num':'SU-1000043','student_id':1002670,'date':'27-09-2018','items':[{'name':'Arduino Nano','units':2,'price':5},]}\n",
    "]"
   ]
  },
  {
   "cell_type": "code",
   "execution_count": 5,
   "metadata": {},
   "outputs": [],
   "source": [
    "for receipt in receipts:\n",
    "    print_receipt(receipt)"
   ]
  },
  {
   "cell_type": "code",
   "execution_count": null,
   "metadata": {},
   "outputs": [],
   "source": []
  },
  {
   "cell_type": "code",
   "execution_count": null,
   "metadata": {},
   "outputs": [],
   "source": []
  }
 ],
 "metadata": {
  "kernelspec": {
   "display_name": "Python [conda env:credit]",
   "language": "python",
   "name": "conda-env-credit-py"
  },
  "language_info": {
   "codemirror_mode": {
    "name": "ipython",
    "version": 3
   },
   "file_extension": ".py",
   "mimetype": "text/x-python",
   "name": "python",
   "nbconvert_exporter": "python",
   "pygments_lexer": "ipython3",
   "version": "3.6.6"
  }
 },
 "nbformat": 4,
 "nbformat_minor": 2
}

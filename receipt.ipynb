{
 "cells": [
  {
   "cell_type": "code",
   "execution_count": 1,
   "metadata": {},
   "outputs": [],
   "source": [
    "#!conda install -c anaconda reportlab -y \n",
    "#!conda install -c conda-forge qrcode -y\n",
    "#!conda install -c conda-forge babel -y\n",
    "# I think just install all the dependencies of InvoiceGenerator but not InvoiceGenerator\n",
    "\n",
    "# Google Sheet formulas\n",
    "# IF(I5>0,\"{'name':'\"&I$1&\"','units':\"&I5&\",'price':\"&I$2&\"},\",\"\")\n",
    "# \"{'invoice_num':\"&N5&\",'student_id':\"&M5&\",'items':[\"&CONCATENATE(O5:W5)&\"]},\""
   ]
  },
  {
   "cell_type": "code",
   "execution_count": 2,
   "metadata": {},
   "outputs": [],
   "source": [
    "import os\n",
    "from tempfile import NamedTemporaryFile\n",
    "from InvoiceGenerator.api import Invoice, Item, Client, Provider, Creator\n",
    "from InvoiceGenerator.pdf import SimpleInvoice\n",
    "\n",
    "os.environ[\"INVOICE_LANG\"] = \"en\""
   ]
  },
  {
   "cell_type": "code",
   "execution_count": 3,
   "metadata": {},
   "outputs": [],
   "source": [
    "def print_receipt(receipt):\n",
    "    invoice_num = receipt[\"invoice_num\"]\n",
    "    student_id = str(receipt[\"student_id\"])\n",
    "    items = receipt[\"items\"]\n",
    "\n",
    "    client = Client(student_id)\n",
    "    provider = Provider('Mamashop SUTD',   \n",
    "                        bank_account='na', # doesn't matter but need to incl\n",
    "                        bank_code='na')  # doesn't matter but need to incl\n",
    "    creator = Creator('Cashier')  # maybe append our coy name here  \n",
    "\n",
    "    invoice = Invoice(client, provider, creator)\n",
    "    invoice.currency_locale = 'en_US.UTF-8'\n",
    "    invoice.currency = '$'\n",
    "    invoice.number = invoice_num\n",
    "    for item in items:\n",
    "        invoice.add_item(Item(item[\"units\"], item[\"price\"], description=item[\"name\"]))\n",
    "\n",
    "    pdf = SimpleInvoice(invoice)\n",
    "    pdf.gen(\"./receipts/{}-1.pdf\".format(student_id), generate_qr_code=False)"
   ]
  },
  {
   "cell_type": "code",
   "execution_count": 4,
   "metadata": {},
   "outputs": [],
   "source": [
    "receipts = [\n",
    "{'invoice_num':1000001,'student_id':1003386,'items':[{'name':'Uno','units':1,'price':7},]},\n",
    "{'invoice_num':1000002,'student_id':1009999,'items':[{'name':'Uno','units':1,'price':7},{'name':'Breadboard','units':1,'price':3},{'name':'50 LED','units':1,'price':2},{'name':'USB','units':1,'price':3},]},\n",
    "{'invoice_num':1000003,'student_id':1003319,'items':[{'name':'Uno','units':1,'price':7},{'name':'20cm','units':1,'price':9},{'name':'Breadboard','units':1,'price':3},{'name':'USB','units':1,'price':3},]},\n",
    "{'invoice_num':1000004,'student_id':1003737,'items':[{'name':'Uno','units':1,'price':7},{'name':'20cm','units':1,'price':9},{'name':'50 LED','units':1,'price':2},{'name':'Resistor','units':1,'price':2},{'name':'USB','units':1,'price':3},]},\n",
    "{'invoice_num':1000005,'student_id':1003295,'items':[{'name':'Uno','units':1,'price':7},{'name':'Nano','units':2,'price':5},{'name':'50 LED','units':1,'price':2},{'name':'Resistor','units':1,'price':2},{'name':'USB','units':1,'price':3},]},\n",
    "{'invoice_num':1000006,'student_id':1003307,'items':[{'name':'20cm','units':1,'price':9},{'name':'Breadboard','units':1,'price':3},{'name':'50 LED','units':1,'price':2},]},\n",
    "{'invoice_num':1000007,'student_id':1003293,'items':[{'name':'Uno','units':1,'price':7},{'name':'10cm','units':1,'price':6},{'name':'Breadboard','units':1,'price':3},{'name':'50 LED','units':1,'price':2},{'name':'Resistor','units':1,'price':2},{'name':'USB','units':1,'price':3},]},\n",
    "{'invoice_num':1000008,'student_id':1003385,'items':[{'name':'Uno','units':1,'price':7},{'name':'10cm','units':1,'price':6},{'name':'Breadboard','units':1,'price':3},{'name':'50 LED','units':1,'price':2},{'name':'Resistor','units':1,'price':2},]},\n",
    "{'invoice_num':1000009,'student_id':1003605,'items':[{'name':'Uno','units':1,'price':7},{'name':'20cm','units':1,'price':9},{'name':'Breadboard','units':1,'price':3},]},\n",
    "{'invoice_num':1000010,'student_id':1002748,'items':[{'name':'Nano','units':1,'price':5},{'name':'10cm','units':1,'price':6},{'name':'Breadboard','units':1,'price':3},{'name':'50 LED','units':1,'price':2},{'name':'Resistor','units':1,'price':2},]},\n",
    "{'invoice_num':1000011,'student_id':1003731,'items':[{'name':'Uno','units':1,'price':7},{'name':'20cm','units':1,'price':9},{'name':'Breadboard','units':1,'price':3},]},\n",
    "{'invoice_num':1000012,'student_id':1003588,'items':[{'name':'Nano','units':1,'price':5},{'name':'10cm','units':1,'price':6},{'name':'Breadboard','units':1,'price':3},]},\n",
    "{'invoice_num':1000013,'student_id':1003362,'items':[{'name':'Uno','units':1,'price':7},]},\n",
    "{'invoice_num':1000014,'student_id':1003516,'items':[{'name':'Uno','units':1,'price':7},{'name':'Breadboard','units':1,'price':3},{'name':'Resistor','units':1,'price':2},]},\n",
    "{'invoice_num':1000015,'student_id':1002682,'items':[{'name':'Nano','units':1,'price':5},{'name':'10cm','units':1,'price':6},{'name':'Breadboard','units':1,'price':3},]},\n",
    "{'invoice_num':1000016,'student_id':1003445,'items':[{'name':'Uno','units':1,'price':7},]},\n",
    "{'invoice_num':1000017,'student_id':1003330,'items':[{'name':'Uno','units':1,'price':7},{'name':'Breadboard','units':1,'price':3},]},\n",
    "{'invoice_num':1000018,'student_id':1003810,'items':[{'name':'Uno','units':1,'price':7},{'name':'10cm','units':1,'price':6},{'name':'20cm','units':1,'price':9},{'name':'Breadboard','units':1,'price':3},{'name':'50 LED','units':1,'price':2},{'name':'Resistor','units':1,'price':2},]},\n",
    "{'invoice_num':1000019,'student_id':1003465,'items':[{'name':'Uno','units':1,'price':7},{'name':'Breadboard','units':1,'price':3},]},\n",
    "{'invoice_num':1000020,'student_id':1003326,'items':[{'name':'Uno','units':1,'price':7},{'name':'Breadboard','units':1,'price':3},]},\n",
    "{'invoice_num':1000021,'student_id':1003529,'items':[{'name':'Uno','units':1,'price':7},{'name':'10cm','units':1,'price':6},{'name':'Breadboard','units':1,'price':3},{'name':'50 LED','units':1,'price':2},{'name':'Resistor','units':1,'price':2},{'name':'USB','units':1,'price':3},]},\n",
    "{'invoice_num':1000022,'student_id':1003610,'items':[{'name':'Nano','units':1,'price':5},{'name':'Breadboard','units':1,'price':3},{'name':'50 LED','units':1,'price':2},]},\n",
    "{'invoice_num':1000023,'student_id':1003856,'items':[{'name':'Uno','units':1,'price':7},{'name':'20cm','units':1,'price':9},{'name':'Breadboard','units':1,'price':3},{'name':'50 LED','units':1,'price':2},{'name':'Resistor','units':1,'price':2},{'name':'USB','units':1,'price':3},]},\n",
    "{'invoice_num':1000024,'student_id':1003344,'items':[{'name':'Uno','units':1,'price':7},{'name':'Nano','units':1,'price':5},{'name':'Breadboard','units':1,'price':3},{'name':'Resistor','units':1,'price':2},{'name':'USB','units':1,'price':3},]},\n",
    "{'invoice_num':1000025,'student_id':1003103,'items':[{'name':'50 LED','units':1,'price':2},]},\n",
    "{'invoice_num':1000026,'student_id':1003540,'items':[{'name':'Uno','units':1,'price':7},{'name':'Nano','units':1,'price':5},{'name':'10cm','units':1,'price':6},{'name':'20cm','units':1,'price':9},{'name':'Breadboard','units':1,'price':3},{'name':'50 LED','units':1,'price':2},{'name':'Resistor','units':1,'price':2},{'name':'USB','units':1,'price':3},]},\n",
    "{'invoice_num':1000027,'student_id':1003368,'items':[{'name':'Nano','units':1,'price':5},{'name':'20cm','units':1,'price':9},{'name':'Breadboard','units':1,'price':3},{'name':'USB','units':2,'price':3},]},\n",
    "{'invoice_num':1000028,'student_id':1003615,'items':[{'name':'Uno','units':1,'price':7},{'name':'50 LED','units':1,'price':2},{'name':'Resistor','units':1,'price':2},{'name':'USB','units':1,'price':3},]},\n",
    "{'invoice_num':1000029,'student_id':1003824,'items':[{'name':'Uno','units':1,'price':7},{'name':'20cm','units':1,'price':9},{'name':'50 LED','units':1,'price':2},{'name':'Resistor','units':1,'price':2},]},\n",
    "{'invoice_num':1000030,'student_id':1003309,'items':[{'name':'Nano','units':1,'price':5},{'name':'10cm','units':1,'price':6},]},\n",
    "{'invoice_num':1000031,'student_id':1003661,'items':[{'name':'Uno','units':1,'price':7},{'name':'Nano','units':1,'price':5},]},\n",
    "{'invoice_num':1000032,'student_id':1003594,'items':[{'name':'Uno','units':1,'price':7},]},\n",
    "{'invoice_num':1000033,'student_id':1003564,'items':[{'name':'Uno','units':1,'price':7},{'name':'Nano','units':1,'price':5},]},\n",
    "{'invoice_num':1000034,'student_id':1003664,'items':[{'name':'Nano','units':1,'price':5},{'name':'10cm','units':1,'price':6},{'name':'Breadboard','units':2,'price':3},]},\n",
    "{'invoice_num':1000035,'student_id':1003537,'items':[{'name':'Uno','units':1,'price':7},{'name':'10cm','units':1,'price':6},{'name':'Breadboard','units':1,'price':3},{'name':'50 LED','units':1,'price':2},]},\n",
    "{'invoice_num':1000036,'student_id':1003387,'items':[{'name':'Uno','units':1,'price':7},{'name':'Breadboard','units':1,'price':3},{'name':'USB','units':1,'price':3},]},\n",
    "{'invoice_num':1000037,'student_id':1003632,'items':[{'name':'Uno','units':1,'price':7},{'name':'20cm','units':1,'price':9},{'name':'Breadboard','units':1,'price':3},{'name':'50 LED','units':1,'price':2},{'name':'Resistor','units':1,'price':2},]},\n",
    "{'invoice_num':1000038,'student_id':1003310,'items':[{'name':'Uno','units':1,'price':7},{'name':'20cm','units':1,'price':9},{'name':'Breadboard','units':1,'price':3},{'name':'Resistor','units':1,'price':2},]},\n",
    "{'invoice_num':1000039,'student_id':1003590,'items':[{'name':'Uno','units':1,'price':7},]},\n",
    "{'invoice_num':1000040,'student_id':1002925,'items':[{'name':'10cm','units':1,'price':6},{'name':'Breadboard','units':1,'price':3},]},\n",
    "{'invoice_num':1000041,'student_id':1003837,'items':[{'name':'Uno','units':1,'price':7},{'name':'10cm','units':1,'price':6},{'name':'Breadboard','units':1,'price':3},{'name':'50 LED','units':1,'price':2},{'name':'Resistor','units':1,'price':2},{'name':'USB','units':1,'price':3},]},\n",
    "{'invoice_num':1000042,'student_id':1003301,'items':[{'name':'Uno','units':1,'price':7},{'name':'10cm','units':1,'price':6},{'name':'50 LED','units':1,'price':2},{'name':'Resistor','units':1,'price':2},]},\n",
    "{'invoice_num':1000043,'student_id':1002670,'items':[{'name':'Nano','units':2,'price':5},]},\n",
    "]"
   ]
  },
  {
   "cell_type": "code",
   "execution_count": 5,
   "metadata": {},
   "outputs": [],
   "source": [
    "for receipt in receipts:\n",
    "    print_receipt(receipt)"
   ]
  },
  {
   "cell_type": "code",
   "execution_count": null,
   "metadata": {},
   "outputs": [],
   "source": []
  }
 ],
 "metadata": {
  "kernelspec": {
   "display_name": "Python [conda env:credit]",
   "language": "python",
   "name": "conda-env-credit-py"
  },
  "language_info": {
   "codemirror_mode": {
    "name": "ipython",
    "version": 3
   },
   "file_extension": ".py",
   "mimetype": "text/x-python",
   "name": "python",
   "nbconvert_exporter": "python",
   "pygments_lexer": "ipython3",
   "version": "3.6.6"
  }
 },
 "nbformat": 4,
 "nbformat_minor": 2
}

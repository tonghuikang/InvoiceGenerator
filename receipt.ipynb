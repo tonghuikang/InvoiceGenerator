{
 "cells": [
  {
   "cell_type": "markdown",
   "metadata": {},
   "source": [
    "# Generation of Receipts"
   ]
  },
  {
   "cell_type": "code",
   "execution_count": 1,
   "metadata": {},
   "outputs": [],
   "source": [
    "# install the dependencies of InvoiceGenerator but not InvoiceGenerator\n",
    "#!conda install -c conda-forge pypdf2 \n",
    "#!conda install -c anaconda yaml \n",
    "\n",
    "import os\n",
    "from tempfile import NamedTemporaryFile\n",
    "from InvoiceGenerator.api import Invoice, Item, Client, Provider, Creator\n",
    "from InvoiceGenerator.pdf import SimpleInvoice\n",
    "\n",
    "os.environ[\"INVOICE_LANG\"] = \"en\""
   ]
  },
  {
   "cell_type": "code",
   "execution_count": 2,
   "metadata": {},
   "outputs": [],
   "source": [
    "def print_receipt(receipt):\n",
    "    invoice_num = receipt[\"invoice_num\"]\n",
    "    student_id = str(receipt[\"student_id\"])\n",
    "    items = receipt[\"items\"]\n",
    "\n",
    "\n",
    "    provider = Provider('''MAKER'S RESUPPLY \\n''',   \n",
    "                        address = '''Tampines BizHub, 11 Tampines Street 92, S(528872) \\n\n",
    "                                     Company UEN: 53387445M''',\n",
    "#                         note = '\\n' + receipt[\"date\"],\n",
    "                        bank_account='na', # not printed but need to incl\n",
    "                        bank_code='na')  # not printed matter but need to incl\n",
    "    client = Client(\"INVOICE\", \n",
    "                    note = 'Invoice ID: ' + str(invoice_num) + '\\n \\n' +\n",
    "                           'Customer information: ' + student_id + '\\n \\n' +\n",
    "                           'Date of Purchase: ' + receipt[\"date\"] + '\\n' +\n",
    "                           'Terms of Payment: ' + 'Cash'\n",
    "                    )\n",
    "    creator = Creator('None')  # maybe append our coy name here  \n",
    "\n",
    "    invoice = Invoice(client, provider, creator)\n",
    "    invoice.currency_locale = 'en_US.UTF-8'\n",
    "    invoice.currency = '$'\n",
    "#     invoice.number = invoice_num\n",
    "    for item in items:\n",
    "        invoice.add_item(Item(item[\"units\"], item[\"price\"], description=item[\"name\"]))\n",
    "\n",
    "    pdf = SimpleInvoice(invoice)\n",
    "    receipt_path = \"./receipts/{}-{}.pdf\".format(invoice_num,student_id)\n",
    "    pdf.gen(receipt_path, generate_qr_code=False)\n",
    "    return receipt_path"
   ]
  },
  {
   "cell_type": "code",
   "execution_count": 3,
   "metadata": {},
   "outputs": [],
   "source": [
    "receipts = [\n",
    "{'invoice_num':'SU-1000001','student_id':1003386,'date':'27-09-2018','items':[{'name':'Arduino Uno','units':1,'price':7},]},\n",
    "{'invoice_num':'SU-1000002','student_id':1009999,'date':'27-09-2018','items':[{'name':'Arduino Uno','units':1,'price':7},{'name':'Breadboard','units':1,'price':3},{'name':'LED 50 pc','units':1,'price':2},{'name':'Micro USB Cable','units':1,'price':3},]},\n",
    "{'invoice_num':'SU-1000003','student_id':1003319,'date':'27-09-2018','items':[{'name':'Arduino Uno','units':1,'price':7},{'name':'Jumper Cable 20cm','units':1,'price':9},{'name':'Breadboard','units':1,'price':3},{'name':'Micro USB Cable','units':1,'price':3},]},\n",
    "{'invoice_num':'SU-1000004','student_id':1003737,'date':'27-09-2018','items':[{'name':'Arduino Uno','units':1,'price':7},{'name':'Jumper Cable 20cm','units':1,'price':9},{'name':'LED 50 pc','units':1,'price':2},{'name':'Resistor 600 pc','units':1,'price':2},{'name':'Micro USB Cable','units':1,'price':3},]},\n",
    "{'invoice_num':'SU-1000005','student_id':1003295,'date':'27-09-2018','items':[{'name':'Arduino Uno','units':1,'price':7},{'name':'Arduino Nano','units':2,'price':5},{'name':'LED 50 pc','units':1,'price':2},{'name':'Resistor 600 pc','units':1,'price':2},{'name':'Micro USB Cable','units':1,'price':3},]},\n",
    "{'invoice_num':'SU-1000006','student_id':1003307,'date':'27-09-2018','items':[{'name':'Jumper Cable 20cm','units':1,'price':9},{'name':'Breadboard','units':1,'price':3},{'name':'LED 50 pc','units':1,'price':2},]},\n",
    "{'invoice_num':'SU-1000007','student_id':1003293,'date':'27-09-2018','items':[{'name':'Arduino Uno','units':1,'price':7},{'name':'Jumper Cable 10cm','units':1,'price':6},{'name':'Breadboard','units':1,'price':3},{'name':'LED 50 pc','units':1,'price':2},{'name':'Resistor 600 pc','units':1,'price':2},{'name':'Micro USB Cable','units':1,'price':3},]},\n",
    "{'invoice_num':'SU-1000008','student_id':1003385,'date':'27-09-2018','items':[{'name':'Arduino Uno','units':1,'price':7},{'name':'Jumper Cable 10cm','units':1,'price':6},{'name':'Breadboard','units':1,'price':3},{'name':'LED 50 pc','units':1,'price':2},{'name':'Resistor 600 pc','units':1,'price':2},]},\n",
    "{'invoice_num':'SU-1000009','student_id':1003605,'date':'27-09-2018','items':[{'name':'Arduino Uno','units':1,'price':7},{'name':'Jumper Cable 20cm','units':1,'price':9},{'name':'Breadboard','units':1,'price':3},]},\n",
    "{'invoice_num':'SU-1000010','student_id':1002748,'date':'27-09-2018','items':[{'name':'Arduino Nano','units':1,'price':5},{'name':'Jumper Cable 10cm','units':1,'price':6},{'name':'Breadboard','units':1,'price':3},{'name':'LED 50 pc','units':1,'price':2},{'name':'Resistor 600 pc','units':1,'price':2},]},\n",
    "{'invoice_num':'SU-1000011','student_id':1003731,'date':'27-09-2018','items':[{'name':'Arduino Uno','units':1,'price':7},{'name':'Jumper Cable 20cm','units':1,'price':9},{'name':'Breadboard','units':1,'price':3},]},\n",
    "{'invoice_num':'SU-1000012','student_id':1003588,'date':'27-09-2018','items':[{'name':'Arduino Nano','units':1,'price':5},{'name':'Jumper Cable 10cm','units':1,'price':6},{'name':'Breadboard','units':1,'price':3},]},\n",
    "{'invoice_num':'SU-1000013','student_id':1003362,'date':'27-09-2018','items':[{'name':'Arduino Uno','units':1,'price':7},]},\n",
    "{'invoice_num':'SU-1000014','student_id':1003516,'date':'27-09-2018','items':[{'name':'Arduino Uno','units':1,'price':7},{'name':'Breadboard','units':1,'price':3},{'name':'Resistor 600 pc','units':1,'price':2},]},\n",
    "{'invoice_num':'SU-1000015','student_id':1002682,'date':'27-09-2018','items':[{'name':'Arduino Nano','units':1,'price':5},{'name':'Jumper Cable 10cm','units':1,'price':6},{'name':'Breadboard','units':1,'price':3},]},\n",
    "{'invoice_num':'SU-1000016','student_id':1003445,'date':'27-09-2018','items':[{'name':'Arduino Uno','units':1,'price':7},]},\n",
    "{'invoice_num':'SU-1000017','student_id':1003330,'date':'27-09-2018','items':[{'name':'Arduino Uno','units':1,'price':7},{'name':'Breadboard','units':1,'price':3},]},\n",
    "{'invoice_num':'SU-1000018','student_id':1003810,'date':'27-09-2018','items':[{'name':'Arduino Uno','units':1,'price':7},{'name':'Jumper Cable 10cm','units':1,'price':6},{'name':'Jumper Cable 20cm','units':1,'price':9},{'name':'Breadboard','units':1,'price':3},{'name':'LED 50 pc','units':1,'price':2},{'name':'Resistor 600 pc','units':1,'price':2},]},\n",
    "{'invoice_num':'SU-1000019','student_id':1003465,'date':'27-09-2018','items':[{'name':'Arduino Uno','units':1,'price':7},{'name':'Breadboard','units':1,'price':3},]},\n",
    "{'invoice_num':'SU-1000020','student_id':1003326,'date':'27-09-2018','items':[{'name':'Arduino Uno','units':1,'price':7},{'name':'Breadboard','units':1,'price':3},]},\n",
    "{'invoice_num':'SU-1000021','student_id':1003529,'date':'27-09-2018','items':[{'name':'Arduino Uno','units':1,'price':7},{'name':'Jumper Cable 10cm','units':1,'price':6},{'name':'Breadboard','units':1,'price':3},{'name':'LED 50 pc','units':1,'price':2},{'name':'Resistor 600 pc','units':1,'price':2},{'name':'Micro USB Cable','units':1,'price':3},]},\n",
    "{'invoice_num':'SU-1000022','student_id':1003610,'date':'27-09-2018','items':[{'name':'Arduino Nano','units':1,'price':5},{'name':'Breadboard','units':1,'price':3},{'name':'LED 50 pc','units':1,'price':2},]},\n",
    "{'invoice_num':'SU-1000023','student_id':1003856,'date':'27-09-2018','items':[{'name':'Arduino Uno','units':1,'price':7},{'name':'Jumper Cable 20cm','units':1,'price':9},{'name':'Breadboard','units':1,'price':3},{'name':'LED 50 pc','units':1,'price':2},{'name':'Resistor 600 pc','units':1,'price':2},{'name':'Micro USB Cable','units':1,'price':3},]},\n",
    "{'invoice_num':'SU-1000024','student_id':1003344,'date':'27-09-2018','items':[{'name':'Arduino Uno','units':1,'price':7},{'name':'Arduino Nano','units':1,'price':5},{'name':'Breadboard','units':1,'price':3},{'name':'Resistor 600 pc','units':1,'price':2},{'name':'Micro USB Cable','units':1,'price':3},]},\n",
    "{'invoice_num':'SU-1000025','student_id':1003103,'date':'27-09-2018','items':[{'name':'LED 50 pc','units':1,'price':2},]},\n",
    "{'invoice_num':'SU-1000026','student_id':1003540,'date':'27-09-2018','items':[{'name':'Arduino Uno','units':1,'price':7},{'name':'Arduino Nano','units':1,'price':5},{'name':'Jumper Cable 10cm','units':1,'price':6},{'name':'Jumper Cable 20cm','units':1,'price':9},{'name':'Breadboard','units':1,'price':3},{'name':'LED 50 pc','units':1,'price':2},{'name':'Resistor 600 pc','units':1,'price':2},{'name':'Micro USB Cable','units':1,'price':3},]},\n",
    "{'invoice_num':'SU-1000027','student_id':1003368,'date':'27-09-2018','items':[{'name':'Arduino Nano','units':1,'price':5},{'name':'Jumper Cable 20cm','units':1,'price':9},{'name':'Breadboard','units':1,'price':3},{'name':'Micro USB Cable','units':2,'price':3},]},\n",
    "{'invoice_num':'SU-1000028','student_id':1003615,'date':'27-09-2018','items':[{'name':'Arduino Uno','units':1,'price':7},{'name':'LED 50 pc','units':1,'price':2},{'name':'Resistor 600 pc','units':1,'price':2},{'name':'Micro USB Cable','units':1,'price':3},]},\n",
    "{'invoice_num':'SU-1000029','student_id':1003824,'date':'27-09-2018','items':[{'name':'Arduino Uno','units':1,'price':7},{'name':'Jumper Cable 20cm','units':1,'price':9},{'name':'LED 50 pc','units':1,'price':2},{'name':'Resistor 600 pc','units':1,'price':2},]},\n",
    "{'invoice_num':'SU-1000030','student_id':1003309,'date':'27-09-2018','items':[{'name':'Arduino Nano','units':1,'price':5},{'name':'Jumper Cable 10cm','units':1,'price':6},]},\n",
    "{'invoice_num':'SU-1000031','student_id':1003661,'date':'27-09-2018','items':[{'name':'Arduino Uno','units':1,'price':7},{'name':'Arduino Nano','units':1,'price':5},]},\n",
    "{'invoice_num':'SU-1000032','student_id':1003594,'date':'27-09-2018','items':[{'name':'Arduino Uno','units':1,'price':7},]},\n",
    "{'invoice_num':'SU-1000033','student_id':1003564,'date':'27-09-2018','items':[{'name':'Arduino Uno','units':1,'price':7},{'name':'Arduino Nano','units':1,'price':5},]},\n",
    "{'invoice_num':'SU-1000034','student_id':1003664,'date':'27-09-2018','items':[{'name':'Arduino Nano','units':1,'price':5},{'name':'Jumper Cable 10cm','units':1,'price':6},{'name':'Breadboard','units':2,'price':3},]},\n",
    "{'invoice_num':'SU-1000035','student_id':1003537,'date':'27-09-2018','items':[{'name':'Arduino Uno','units':1,'price':7},{'name':'Jumper Cable 10cm','units':1,'price':6},{'name':'Breadboard','units':1,'price':3},{'name':'LED 50 pc','units':1,'price':2},]},\n",
    "{'invoice_num':'SU-1000036','student_id':1003387,'date':'27-09-2018','items':[{'name':'Arduino Uno','units':1,'price':7},{'name':'Breadboard','units':1,'price':3},{'name':'Micro USB Cable','units':1,'price':3},]},\n",
    "{'invoice_num':'SU-1000037','student_id':1003632,'date':'27-09-2018','items':[{'name':'Arduino Uno','units':1,'price':7},{'name':'Jumper Cable 20cm','units':1,'price':9},{'name':'Breadboard','units':1,'price':3},{'name':'LED 50 pc','units':1,'price':2},{'name':'Resistor 600 pc','units':1,'price':2},]},\n",
    "{'invoice_num':'SU-1000038','student_id':1003310,'date':'27-09-2018','items':[{'name':'Arduino Uno','units':1,'price':7},{'name':'Jumper Cable 20cm','units':1,'price':9},{'name':'Breadboard','units':1,'price':3},{'name':'Resistor 600 pc','units':1,'price':2},]},\n",
    "{'invoice_num':'SU-1000039','student_id':1003590,'date':'27-09-2018','items':[{'name':'Arduino Uno','units':1,'price':7},]},\n",
    "{'invoice_num':'SU-1000040','student_id':1002925,'date':'27-09-2018','items':[{'name':'Jumper Cable 10cm','units':1,'price':6},{'name':'Breadboard','units':1,'price':3},]},\n",
    "{'invoice_num':'SU-1000041','student_id':1003837,'date':'27-09-2018','items':[{'name':'Arduino Uno','units':1,'price':7},{'name':'Jumper Cable 10cm','units':1,'price':6},{'name':'Breadboard','units':1,'price':3},{'name':'LED 50 pc','units':1,'price':2},{'name':'Resistor 600 pc','units':1,'price':2},{'name':'Micro USB Cable','units':1,'price':3},]},\n",
    "{'invoice_num':'SU-1000042','student_id':1003301,'date':'27-09-2018','items':[{'name':'Arduino Uno','units':1,'price':7},{'name':'Jumper Cable 10cm','units':1,'price':6},{'name':'LED 50 pc','units':1,'price':2},{'name':'Resistor 600 pc','units':1,'price':2},]},\n",
    "{'invoice_num':'SU-1000043','student_id':1002670,'date':'27-09-2018','items':[{'name':'Arduino Nano','units':2,'price':5},]}\n",
    "]"
   ]
  },
  {
   "cell_type": "code",
   "execution_count": 4,
   "metadata": {},
   "outputs": [],
   "source": [
    "for receipt in receipts:\n",
    "    print_receipt(receipt)"
   ]
  },
  {
   "cell_type": "markdown",
   "metadata": {},
   "source": [
    "Please check the receipts"
   ]
  },
  {
   "cell_type": "markdown",
   "metadata": {},
   "source": [
    "# Testing Email Protocol\n",
    "\n",
    "### Installation and Preparation notes\n",
    "If you are trying this out please use a disposable email and sent it to yourselves. Try at your own risk.\n",
    "\n",
    "Create a new gmail. Do it in an incogito window to avoid messing with your currently signed in Google account. <BR>\n",
    "Enable two-factor authentication at https://myaccount.google.com/signinoptions/two-step-verification/enroll-welcome and create an app password at https://myaccount.google.com/apppasswords. This is the app password used to log in with python - save it inside `senstive.txt` <BR>\n",
    "\n",
    "Enable less secure apps: https://myaccount.google.com/lesssecureapps <BR>\n",
    "\n",
    "Enable IMAP and POP: https://mail.google.com/mail/u/0/#settings/fwdandpop <BR>"
   ]
  },
  {
   "cell_type": "code",
   "execution_count": 5,
   "metadata": {},
   "outputs": [],
   "source": [
    "#!conda install -c conda-forge pypdf2 \n",
    "#!conda install -c anaconda yaml \n",
    "\n",
    "import smtplib\n",
    "from email import encoders\n",
    "from email.mime.text import MIMEText\n",
    "from email.mime.base import MIMEBase\n",
    "from email.mime.multipart import MIMEMultipart\n",
    "\n",
    "# If it is it will look something like this Python 2\n",
    "# from email.MIMEMultipart import MIMEMultipart\n",
    "# from email.MIMEText import MIMEText"
   ]
  },
  {
   "cell_type": "markdown",
   "metadata": {},
   "source": [
    "`sensitive.txt` (which is listed in `.gitignore`) contains: <BR>\n",
    "    \n",
    "`senders_app_password\n",
    "receiver@email.com\n",
    "other irrelevant and unnecessary lines if you have`"
   ]
  },
  {
   "cell_type": "code",
   "execution_count": 6,
   "metadata": {},
   "outputs": [],
   "source": [
    "with open('sensitive.txt', 'r') as f:\n",
    "    lines = f.readlines()\n",
    "    password = lines[0]\n",
    "    email_receiver = lines[1][:-1]  # to remove the new line at the end"
   ]
  },
  {
   "cell_type": "code",
   "execution_count": 7,
   "metadata": {},
   "outputs": [],
   "source": [
    "email_sender = \"makers.resupply@gmail.com\"  # your email please\n",
    "email_sender_name = \"MAKER'S RESUPPLY\"  # please do not impersonate us\n",
    "email_receiver = email_receiver  # from the readfile, I don't want people sending to me\n",
    "# email_receiver_name = '1009999'  # wanted to indicate receiver student id in the \"To\" row\n",
    "\n",
    "filepath = './README.rst'  # the path to the file, not the same as the next variable\n",
    "filename = 'receipt.txt'  # the receiver will see this filename\n",
    "\n",
    "subject = \"check\"\n",
    "message = \"mate\""
   ]
  },
  {
   "cell_type": "markdown",
   "metadata": {},
   "source": [
    "starting connection"
   ]
  },
  {
   "cell_type": "code",
   "execution_count": 8,
   "metadata": {},
   "outputs": [
    {
     "data": {
      "text/plain": [
       "(220, b'2.0.0 Ready to start TLS')"
      ]
     },
     "execution_count": 8,
     "metadata": {},
     "output_type": "execute_result"
    }
   ],
   "source": [
    "server = smtplib.SMTP(\"smtp.gmail.com\", 587)\n",
    "server.ehlo()\n",
    "server.starttls()"
   ]
  },
  {
   "cell_type": "markdown",
   "metadata": {},
   "source": [
    "log in"
   ]
  },
  {
   "cell_type": "code",
   "execution_count": 9,
   "metadata": {},
   "outputs": [
    {
     "data": {
      "text/plain": [
       "(235, b'2.7.0 Accepted')"
      ]
     },
     "execution_count": 9,
     "metadata": {},
     "output_type": "execute_result"
    }
   ],
   "source": [
    "server.login(email_sender, password)\n",
    "# the password is the app password, which is not your email password"
   ]
  },
  {
   "cell_type": "markdown",
   "metadata": {},
   "source": [
    "test simple message"
   ]
  },
  {
   "cell_type": "code",
   "execution_count": 10,
   "metadata": {},
   "outputs": [
    {
     "data": {
      "text/plain": [
       "{}"
      ]
     },
     "execution_count": 10,
     "metadata": {},
     "output_type": "execute_result"
    }
   ],
   "source": [
    "server.sendmail(email_sender, email_receiver, subject+message)"
   ]
  },
  {
   "cell_type": "markdown",
   "metadata": {},
   "source": [
    "test message with attachment"
   ]
  },
  {
   "cell_type": "code",
   "execution_count": 11,
   "metadata": {},
   "outputs": [
    {
     "data": {
      "text/plain": [
       "{}"
      ]
     },
     "execution_count": 11,
     "metadata": {},
     "output_type": "execute_result"
    }
   ],
   "source": [
    "# subject and message\n",
    "msg = MIMEMultipart()\n",
    "msg['From'] = email_sender_name\n",
    "msg['To'] =  email_receiver\n",
    "msg['Subject'] = subject\n",
    "message = message\n",
    "msg.attach(MIMEText(message))\n",
    "\n",
    "# add attachments\n",
    "attachment = open(filepath, \"rb\")\n",
    "part = MIMEBase('application', 'octet-stream')\n",
    "part.set_payload((attachment).read())\n",
    "encoders.encode_base64(part)\n",
    "part.add_header('Content-Disposition', \"attachment; filename= %s\" % filename)\n",
    "msg.attach(part)\n",
    "\n",
    "# the sending\n",
    "text = msg.as_string()\n",
    "server.sendmail(msg['From'], msg['To'], text)"
   ]
  },
  {
   "cell_type": "markdown",
   "metadata": {},
   "source": [
    "functionalising"
   ]
  },
  {
   "cell_type": "code",
   "execution_count": 12,
   "metadata": {},
   "outputs": [],
   "source": [
    "import smtplib\n",
    "from email import encoders\n",
    "from email.mime.text import MIMEText\n",
    "from email.mime.base import MIMEBase\n",
    "from email.mime.multipart import MIMEMultipart\n",
    "\n",
    "# for unicode\n",
    "from email.header import Header\n",
    "from email.utils import formataddr\n",
    "\n",
    "\n",
    "def send_email(email_sender, email_sender_name, email_receiver, filepath, filename, subject, message):\n",
    "    # subject and message\n",
    "    msg = MIMEMultipart()\n",
    "    msg['From'] = email_sender_name\n",
    "    msg['To'] =  email_receiver\n",
    "    msg['Subject'] = subject\n",
    "    msg.attach(MIMEText(message.encode('utf-8'), _charset='utf-8'))\n",
    "\n",
    "    # add attachments\n",
    "    attachment = open(filepath, \"rb\")\n",
    "    part = MIMEBase('application', 'octet-stream')\n",
    "    part.set_payload((attachment).read())\n",
    "    encoders.encode_base64(part)\n",
    "    part.add_header('Content-Disposition', \"attachment; filename= %s\" % filename)\n",
    "    msg.attach(part)\n",
    "\n",
    "    # the sending\n",
    "    text = msg.as_string()\n",
    "    server.sendmail(msg['From'], msg['To'], text)"
   ]
  },
  {
   "cell_type": "code",
   "execution_count": 13,
   "metadata": {},
   "outputs": [],
   "source": [
    "message_template_fake = '''\n",
    "こんにちは {}、\n",
    "ありがとうございました。受け取りですよ。また合う！ \\U0001f604\n",
    "\n",
    "MAKER'S RESUPPLY　からの友達 \\n\n",
    "'''.format(\"email_receiver_name\")\n",
    "\n",
    "send_email(\"MAKER'S RESUPPLY\", \n",
    "           formataddr((str(Header(u\"リーシエンローン\", 'utf-8')),\"MAKER'S RESUPPLY\")),\n",
    "           formataddr((str(Header(u\"小澤 マリア\", 'utf-8')),email_receiver)),\n",
    "           'receipt.ipynb',\n",
    "           'notebook.ipynb',\n",
    "           u\"これは偽ニュス\",\n",
    "           message_template_fake)"
   ]
  },
  {
   "cell_type": "markdown",
   "metadata": {},
   "source": [
    "# Sending Emails\n",
    "Yes we are really sending it here, please do not abuse.\n",
    "\n",
    "Handle student emails with care we do not want to spam them"
   ]
  },
  {
   "cell_type": "code",
   "execution_count": 14,
   "metadata": {},
   "outputs": [
    {
     "name": "stdout",
     "output_type": "stream",
     "text": [
      "1003386@mymail.sutd.edu.sg\n"
     ]
    }
   ],
   "source": [
    "for receipt in receipts[:1]:\n",
    "    receipt_path = print_receipt(receipt)\n",
    "    \n",
    "    message_template = '''\n",
    "こんにちは 大学生 {}、\n",
    "ありがとうございました。受け取りですよ。また合う！ \\U0001f604\n",
    "\n",
    "MAKER'S RESUPPLY　からの友達 \\n\n",
    "'''.format(receipt[\"student_id\"])\n",
    "    \n",
    "    # receipent: student email\n",
    "    student_email = \"{}@mymail.sutd.edu.sg\".format(receipt[\"student_id\"])\n",
    "    print(student_email)\n",
    "\n",
    "    send_email(\"MAKER'S RESUPPLY\", \n",
    "               formataddr((str(Header(u\"リーシエンローン\", 'utf-8')),\"MAKER'S RESUPPLY\")),\n",
    "               formataddr((str(Header(u\"大学生 {}\".format(receipt[\"student_id\"]), 'utf-8')), email_receiver)),\n",
    "               # to change var email_receiver with student_email\n",
    "               receipt_path,\n",
    "               \"{}.pdf\".format(receipt[\"invoice_num\"]),\n",
    "               \"Maker's Resupply Invoice for student {}\".format(receipt[\"student_id\"]),\n",
    "               message_template)\n",
    "    \n",
    "    # please send sender's name we are not LEE Hsien Loong"
   ]
  },
  {
   "cell_type": "markdown",
   "metadata": {},
   "source": [
    "# Archiving Receipts"
   ]
  },
  {
   "cell_type": "code",
   "execution_count": 15,
   "metadata": {},
   "outputs": [],
   "source": [
    "# !mkdir sent\n",
    "# !mv -vn ./receipts/*.pdf ./sent/\n",
    "# # if \"not overwritten\" is shown, that means have you duplicate receipts"
   ]
  },
  {
   "cell_type": "code",
   "execution_count": null,
   "metadata": {},
   "outputs": [],
   "source": []
  }
 ],
 "metadata": {
  "kernelspec": {
   "display_name": "Python [conda env:credit]",
   "language": "python",
   "name": "conda-env-credit-py"
  },
  "language_info": {
   "codemirror_mode": {
    "name": "ipython",
    "version": 3
   },
   "file_extension": ".py",
   "mimetype": "text/x-python",
   "name": "python",
   "nbconvert_exporter": "python",
   "pygments_lexer": "ipython3",
   "version": "3.6.6"
  }
 },
 "nbformat": 4,
 "nbformat_minor": 2
}
